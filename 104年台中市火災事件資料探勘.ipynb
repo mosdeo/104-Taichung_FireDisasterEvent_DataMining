{
 "cells": [
  {
   "cell_type": "code",
   "execution_count": 1,
   "metadata": {
    "collapsed": true
   },
   "outputs": [],
   "source": [
    "import numpy as np\n",
    "import pandas as pd\n",
    "import matplotlib.pyplot as plt\n",
    "import os\n",
    "import sys"
   ]
  },
  {
   "cell_type": "code",
   "execution_count": 3,
   "metadata": {
    "collapsed": true
   },
   "outputs": [],
   "source": [
    "list_xls_file = []\n",
    "floder_path = '104年火災事件資料/'\n",
    "for i in os.listdir(floder_path):\n",
    "    list_xls_file.append(floder_path+i)"
   ]
  },
  {
   "cell_type": "code",
   "execution_count": 4,
   "metadata": {
    "scrolled": true
   },
   "outputs": [
    {
     "name": "stdout",
     "output_type": "stream",
     "text": [
      "['高雄市' '臺南市'], 案件數量=6\n",
      "['新北市'], 案件數量=130\n",
      "['臺北市'], 案件數量=103\n",
      "['桃園市'], 案件數量=296\n",
      "['臺中市'], 案件數量=146\n",
      "['臺南市'], 案件數量=103\n",
      "['高雄市'], 案件數量=61\n",
      "['宜蘭縣'], 案件數量=69\n",
      "['新竹縣'], 案件數量=44\n",
      "['苗栗縣'], 案件數量=36\n",
      "['彰化縣'], 案件數量=88\n",
      "['南投縣'], 案件數量=108\n",
      "['雲林縣'], 案件數量=119\n",
      "['嘉義縣'], 案件數量=40\n",
      "['屏東縣'], 案件數量=83\n",
      "['臺東縣'], 案件數量=56\n",
      "['花蓮縣'], 案件數量=25\n",
      "['澎湖縣'], 案件數量=27\n",
      "['基隆市'], 案件數量=39\n",
      "['新竹市'], 案件數量=39\n",
      "['嘉義市'], 案件數量=24\n",
      "['金門縣'], 案件數量=11\n",
      "['連江縣'], 案件數量=4\n",
      "['臺中港'], 案件數量=15\n"
     ]
    }
   ],
   "source": [
    "df_raw = pd.DataFrame()\n",
    "for xls in list_xls_file:\n",
    "    df = pd.read_excel(\n",
    "                  xls, #list_xls_file[3],\n",
    "                  skiprows=[0] #這份文件的 row1 不是 index，所以要跳過\n",
    "    )\n",
    "    print('{}, 案件數量={}'.format(df['縣市'].unique(), df.index.size))\n",
    "    df_raw = pd.concat([df_raw, df])"
   ]
  },
  {
   "cell_type": "code",
   "execution_count": 5,
   "metadata": {},
   "outputs": [
    {
     "name": "stdout",
     "output_type": "stream",
     "text": [
      "['電氣因素' '縱火' '其他' '菸蒂' '遺留火種' '爐火烹調' '自殺' '車輛因素' '施工不慎' '機械設備' '燃燒雜草、垃圾'\n",
      " '燃放爆竹煙火' '瓦斯漏氣或爆炸' '蠟燭' '交通事故' '玩火' '敬神掃墓祭祖' '易燃品自燃' '不明' '原因不明' '化學物品'\n",
      " '其它' '洩漏液化瓦斯' '瓦斯漏氣爆炸' '自清' '瓦斯外洩' '絕緣油接觸高溫' '瓦斯灌充填打火機不慎' '除蜂不慎'\n",
      " '電暖器引燃可燃物' '烤火' '燒廢料' '燃燒木材不慎' '烘乾機作業不慎' '洩漏液化石油氣' '汙泥過熱' '機械故障'\n",
      " '柴油洩漏接觸熱源' '易燃液體' '施放爆竹煙火' '整地' '引燃汽油' '引燃枯草' '引擎排煙管高溫' '天然災害' '點蚊香不慎引火']\n"
     ]
    }
   ],
   "source": [
    "# 與 \"爐火烹調\" 同類的資料\n",
    "df_raw.replace(\n",
    "    to_replace=['爐火烹調','爐火不慎','爐火烹調油鍋起火','爐火烹調乾燒'],\n",
    "    value='爐火烹調',inplace=True)\n",
    "\n",
    "# 與 \"電氣因素\" 同類的資料\n",
    "df_raw.replace(\n",
    "    to_replace=['電氣因素','電氣因素(不含車輛)'],\n",
    "    value='電氣因素',inplace=True)\n",
    "\n",
    "# 與 \"縱火\" 同類的資料\n",
    "df_raw.replace(\n",
    "    to_replace=['縱火','疑似縱火','人為縱火'],\n",
    "    value='縱火',inplace=True)\n",
    "\n",
    "# 與 \"自殺\" 同類的資料\n",
    "df_raw.replace(\n",
    "    to_replace=['自殺','自焚'],\n",
    "    value='自殺',inplace=True)\n",
    "\n",
    "# 與 \"敬神祭祖\" 同類的資料\n",
    "df_raw.replace(\n",
    "    to_replace=['敬神祭祖','敬神、祭祖','敬神','祭祖'],\n",
    "    value='自殺',inplace=True)\n",
    "\n",
    "# 與 \"蠟燭\" 同類的資料\n",
    "df_raw.replace(\n",
    "    to_replace=['蠟燭','燈燭'],\n",
    "    value='蠟燭',inplace=True)\n",
    "\n",
    "# 屬於車輛類\n",
    "df_raw.replace(\n",
    "    to_replace=['車輛因素','車輛電氣因素','車輛機械因素',\n",
    "                '車輛人為疏忽','車輛電氣系統','車輛燃料系統',],\n",
    "    value='車輛因素',inplace=True)\n",
    "\n",
    "# 與 \"燃放爆竹煙火\" 同類的資料\n",
    "df_raw.replace(\n",
    "    to_replace=['燃放爆竹','燃放爆竹煙火'],\n",
    "    value='燃放爆竹煙火',inplace=True)\n",
    "\n",
    "df = df_raw.groupby(by=['起火原因'], squeeze=True).count()\n",
    "df =df.iloc[:,0:1].sort_values(by=df.columns[0], ascending=False)\n",
    "print(df.index.values)"
   ]
  },
  {
   "cell_type": "code",
   "execution_count": 7,
   "metadata": {},
   "outputs": [],
   "source": [
    "# df_raw.query('起火原因==\"自殺\" or 起火原因==\"自焚\"')"
   ]
  },
  {
   "cell_type": "code",
   "execution_count": null,
   "metadata": {
    "collapsed": true
   },
   "outputs": [],
   "source": []
  }
 ],
 "metadata": {
  "kernelspec": {
   "display_name": "Python 3",
   "language": "python",
   "name": "python3"
  },
  "language_info": {
   "codemirror_mode": {
    "name": "ipython",
    "version": 3
   },
   "file_extension": ".py",
   "mimetype": "text/x-python",
   "name": "python",
   "nbconvert_exporter": "python",
   "pygments_lexer": "ipython3",
   "version": "3.6.2"
  }
 },
 "nbformat": 4,
 "nbformat_minor": 2
}
