{
 "cells": [
  {
   "cell_type": "code",
   "execution_count": 1,
   "metadata": {},
   "outputs": [],
   "source": [
    "import numpy as np\n",
    "import pandas as pd\n",
    "import matplotlib.pyplot as plt\n",
    "import os\n",
    "import sys\n",
    "import geopandas as gp\n",
    "plt.rcParams['figure.dpi'] = 300"
   ]
  },
  {
   "cell_type": "markdown",
   "metadata": {},
   "source": [
    "# 讀取台灣地圖資料"
   ]
  },
  {
   "cell_type": "code",
   "execution_count": 2,
   "metadata": {
    "collapsed": true
   },
   "outputs": [],
   "source": [
    "#全台灣村里界圖\n",
    "taiwan_villages_shp = gp.read_file(\"../GeoPandas_GettingStart/town_shp/TOWN_MOI_1060525.shp\")\n",
    "\n",
    "#全台灣鄉鎮市區界圖\n",
    "taiwan_town_shp = taiwan_villages_shp.dissolve('TOWNNAME', as_index=False)"
   ]
  },
  {
   "cell_type": "markdown",
   "metadata": {},
   "source": [
    "# 火災事件資料前處理\n",
    "1. 讀取、合併各縣市資料\n",
    "2. \"火災原因\"關聯分組\n",
    "3. \"鄉鎮市區\" column name 字串替換 & 缺字補充"
   ]
  },
  {
   "cell_type": "code",
   "execution_count": 3,
   "metadata": {},
   "outputs": [],
   "source": [
    "# 1. 讀取、合併各縣市資料\n",
    "\n",
    "# 建立各縣市火災檔案清單\n",
    "list_xls_file = []\n",
    "floder_path = '104年火災事件資料/'\n",
    "for i in os.listdir(floder_path):\n",
    "    list_xls_file.append(floder_path+i)\n",
    "      \n",
    "# 合併各縣市火災資料\n",
    "df_taiwan_fire_event = pd.DataFrame()\n",
    "for xls in list_xls_file:\n",
    "    df = pd.read_excel(\n",
    "                  xls, #list_xls_file[3],\n",
    "                  skiprows=[0] #這份文件的 row1 不是 index，是文件名稱，所以要跳過\n",
    "    )\n",
    "    #print('{} 案件數量={}, '.format(df_taiwan_fire_event['縣市'].unique(), df_taiwan_fire_event.index.size), end='')\n",
    "    df_taiwan_fire_event = pd.concat([df_taiwan_fire_event, df])"
   ]
  },
  {
   "cell_type": "code",
   "execution_count": 4,
   "metadata": {},
   "outputs": [
    {
     "name": "stdout",
     "output_type": "stream",
     "text": [
      "原先所有類別數量 = 62\n",
      "關聯分組類別數量 = 25\n",
      "['乾燥作業' '交通事故' '其他或不明' '天然災害' '敬神掃墓祭祖' '敬神祭祖' '施工不慎' '易燃液體接觸火源' '機械設備'\n",
      " '汙泥過熱' '燃放爆竹煙火' '燃燒廢棄物' '爐火烹調' '玩火' '瓦斯' '縱火' '自殺' '菸蒂' '蠟燭' '車輛因素' '遺留火種'\n",
      " '除蜂不慎' '電暖器引燃可燃物' '電氣因素' '點蚊香不慎引火']\n"
     ]
    }
   ],
   "source": [
    "# 2. \"火災原因\"關聯分組\n",
    "\n",
    "# 火災事件關聯分組表\n",
    "dict_fire_event = {\n",
    "    '自殺':['自殺','自焚'],\n",
    "    '蠟燭':['蠟燭','燈燭'],\n",
    "    '縱火':['縱火','疑似縱火','人為縱火'],\n",
    "    '瓦斯':['瓦斯','瓦斯外洩','瓦斯漏氣或爆炸','洩漏液化石油氣','洩漏液化瓦斯','瓦斯漏氣爆炸','瓦斯灌充填打火機不慎'],\n",
    "    '機械設備':['機械設備','機械故障'],\n",
    "    '電氣因素':['電氣因素','電氣因素(不含車輛)'],\n",
    "    '乾燥作業':['乾燥作業','烘乾機作業不慎','烤火'],\n",
    "    '敬神祭祖':['敬神祭祖','敬神、祭祖','敬神','祭祖'],\n",
    "    '爐火烹調':['爐火烹調','爐火不慎','爐火烹調油鍋起火','爐火烹調乾燒'],\n",
    "    '車輛因素':['車輛因素','車輛電氣因素','車輛機械因素','引擎排煙管高溫','車輛人為疏忽','車輛電氣系統','車輛燃料系統',],\n",
    "    '燃燒廢棄物':['燃燒廢棄物','燃燒雜草、垃圾','自清','燒廢料','燃燒木材不慎','整地','引燃汽油','引燃枯草'],\n",
    "    '燃放爆竹煙火':['燃放爆竹','燃放爆竹煙火','施放爆竹煙火'],\n",
    "    '易燃液體接觸火源':['易燃液體接觸火源','易燃品自燃','化學物品','柴油洩漏接觸熱源','絕緣油接觸高溫','易燃液體'],\n",
    "    '其他或不明':['其他或不明','其他','其它','原因不明','不明']\n",
    "}\n",
    "\n",
    "print(\"原先所有類別數量 = {}\".format(len(df_taiwan_fire_event['起火原因'].unique())))\n",
    "\n",
    "# 關聯分組字串替換\n",
    "for key in dict_fire_event:\n",
    "    df_taiwan_fire_event['起火原因'].replace(\n",
    "        to_replace = dict_fire_event[key],\n",
    "        value = key, inplace=True)\n",
    "\n",
    "df_fire_cause_count = df_taiwan_fire_event.groupby(by = ['起火原因'], squeeze = True).count()\n",
    "df_fire_cause_count.iloc[:,0:1].sort_values(\n",
    "                    by = df_fire_cause_count.columns[0],\n",
    "                    ascending = False)\n",
    "print(\"關聯分組類別數量 = {}\".format(len(df_fire_cause_count.index.unique())))\n",
    "print(df_fire_cause_count.index.values)"
   ]
  },
  {
   "cell_type": "code",
   "execution_count": 5,
   "metadata": {},
   "outputs": [],
   "source": [
    "# 3. \"鄉鎮市區\" column name 字串替換 & 缺字補充\n",
    "\n",
    "#'鄉、鎮、市、區'不能 query\n",
    "df_taiwan_fire_event.rename_axis({'鄉、鎮、市、區':'鄉鎮市區'}, axis=1, inplace=True)\n",
    "\n",
    "dict_TOWNNAME = {\n",
    "    '中山區':['中山區','中山'],\n",
    "    '七堵區':['七堵區','七堵'],\n",
    "    '中正區':['中正區','中正'],\n",
    "    '仁愛區':['仁愛區','仁愛'],\n",
    "    '信義區':['信義區','信義'],\n",
    "    '安樂區':['安樂區','安樂'],\n",
    "    '暖暖區':['暖暖區','暖暖'],\n",
    "}\n",
    "\n",
    "for key in dict_TOWNNAME:\n",
    "    df_taiwan_fire_event['鄉鎮市區'].replace(\n",
    "            to_replace = dict_TOWNNAME[key],\n",
    "            value = key, inplace=True)"
   ]
  },
  {
   "cell_type": "code",
   "execution_count": 14,
   "metadata": {},
   "outputs": [
    {
     "data": {
      "text/plain": [
       "{'台南市南區鯤鯓湖南側水道(CTR-CI0031舢舨)',\n",
       " '台西鄉',\n",
       " '高雄市前鎮漁港(益大68號)',\n",
       " '高雄市旗津區德利造船廠(CERIBU漁船)',\n",
       " '高雄港121號碼頭(華維1號貨輪)',\n",
       " '高雄港32號碼頭(編號10-8號堆高機)',\n",
       " '高雄港78號碼頭(編號601號堆高機)'}"
      ]
     },
     "execution_count": 14,
     "metadata": {},
     "output_type": "execute_result"
    }
   ],
   "source": [
    "set(df_taiwan_fire_event['鄉鎮市區'].unique()).difference(set(taiwan_town_shp['TOWNNAME']))"
   ]
  },
  {
   "cell_type": "code",
   "execution_count": 21,
   "metadata": {},
   "outputs": [
    {
     "data": {
      "text/html": [
       "<div>\n",
       "<style>\n",
       "    .dataframe thead tr:only-child th {\n",
       "        text-align: right;\n",
       "    }\n",
       "\n",
       "    .dataframe thead th {\n",
       "        text-align: left;\n",
       "    }\n",
       "\n",
       "    .dataframe tbody tr th {\n",
       "        vertical-align: top;\n",
       "    }\n",
       "</style>\n",
       "<table border=\"1\" class=\"dataframe\">\n",
       "  <thead>\n",
       "    <tr style=\"text-align: right;\">\n",
       "      <th></th>\n",
       "      <th>COUNTYCODE</th>\n",
       "      <th>COUNTYID</th>\n",
       "      <th>COUNTYNAME</th>\n",
       "      <th>TOWNCODE</th>\n",
       "      <th>TOWNENG</th>\n",
       "      <th>TOWNID</th>\n",
       "      <th>TOWNNAME</th>\n",
       "      <th>geometry</th>\n",
       "    </tr>\n",
       "  </thead>\n",
       "  <tbody>\n",
       "  </tbody>\n",
       "</table>\n",
       "</div>"
      ],
      "text/plain": [
       "Empty GeoDataFrame\n",
       "Columns: [COUNTYCODE, COUNTYID, COUNTYNAME, TOWNCODE, TOWNENG, TOWNID, TOWNNAME, geometry]\n",
       "Index: []"
      ]
     },
     "execution_count": 21,
     "metadata": {},
     "output_type": "execute_result"
    }
   ],
   "source": [
    "# df_taiwan_fire_event.query('鄉鎮市區==\"台西鄉\"')\n",
    "# taiwan_villages_shp.query('TOWNNAME==\"台西鄉\"')\n",
    "taiwan_villages_shp[\n",
    "    taiwan_villages_shp['TOWNNAME'].str.contains(\"台西\")]"
   ]
  },
  {
   "cell_type": "code",
   "execution_count": null,
   "metadata": {},
   "outputs": [],
   "source": []
  },
  {
   "cell_type": "code",
   "execution_count": 8,
   "metadata": {},
   "outputs": [],
   "source": [
    "# df_raw.query('\"潭子\"鄉鎮市區')\n",
    "df_taichug_region1 = df_taiwan_fire_event.query('\"大雅區\"==鄉鎮市區 or \"神岡區\"==鄉鎮市區 or \"潭子區\"==鄉鎮市區 or \"豐原區\"==鄉鎮市區')"
   ]
  },
  {
   "cell_type": "code",
   "execution_count": null,
   "metadata": {
    "collapsed": true
   },
   "outputs": [],
   "source": []
  },
  {
   "cell_type": "code",
   "execution_count": null,
   "metadata": {
    "collapsed": true
   },
   "outputs": [],
   "source": []
  },
  {
   "cell_type": "code",
   "execution_count": null,
   "metadata": {
    "collapsed": true
   },
   "outputs": [],
   "source": []
  },
  {
   "cell_type": "code",
   "execution_count": null,
   "metadata": {},
   "outputs": [],
   "source": []
  }
 ],
 "metadata": {
  "kernelspec": {
   "display_name": "Python 3",
   "language": "python",
   "name": "python3"
  },
  "language_info": {
   "codemirror_mode": {
    "name": "ipython",
    "version": 3
   },
   "file_extension": ".py",
   "mimetype": "text/x-python",
   "name": "python",
   "nbconvert_exporter": "python",
   "pygments_lexer": "ipython3",
   "version": "3.6.2"
  }
 },
 "nbformat": 4,
 "nbformat_minor": 2
}
