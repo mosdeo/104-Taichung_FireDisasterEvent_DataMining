{
 "cells": [
  {
   "cell_type": "code",
   "execution_count": 1,
   "metadata": {
    "collapsed": true
   },
   "outputs": [],
   "source": [
    "import numpy as np\n",
    "import pandas as pd\n",
    "import matplotlib.pyplot as plt\n",
    "import os\n",
    "import sys\n",
    "import geopandas as gp"
   ]
  },
  {
   "cell_type": "code",
   "execution_count": 2,
   "metadata": {
    "collapsed": true
   },
   "outputs": [],
   "source": [
    "list_xls_file = []\n",
    "floder_path = '104年火災事件資料/'\n",
    "for i in os.listdir(floder_path):\n",
    "    list_xls_file.append(floder_path+i)"
   ]
  },
  {
   "cell_type": "code",
   "execution_count": 11,
   "metadata": {
    "scrolled": true
   },
   "outputs": [
    {
     "name": "stdout",
     "output_type": "stream",
     "text": [
      "['高雄市' '臺南市'] 案件數量=6, ['新北市'] 案件數量=130, ['臺北市'] 案件數量=103, ['桃園市'] 案件數量=296, ['臺中市'] 案件數量=146, ['臺南市'] 案件數量=103, ['高雄市'] 案件數量=61, ['宜蘭縣'] 案件數量=69, ['新竹縣'] 案件數量=44, ['苗栗縣'] 案件數量=36, ['彰化縣'] 案件數量=88, ['南投縣'] 案件數量=108, ['雲林縣'] 案件數量=119, ['嘉義縣'] 案件數量=40, ['屏東縣'] 案件數量=83, ['臺東縣'] 案件數量=56, ['花蓮縣'] 案件數量=25, ['澎湖縣'] 案件數量=27, ['基隆市'] 案件數量=39, ['新竹市'] 案件數量=39, ['嘉義市'] 案件數量=24, ['金門縣'] 案件數量=11, ['連江縣'] 案件數量=4, ['臺中港'] 案件數量=15, "
     ]
    }
   ],
   "source": [
    "df_raw = pd.DataFrame()\n",
    "for xls in list_xls_file:\n",
    "    df = pd.read_excel(\n",
    "                  xls, #list_xls_file[3],\n",
    "                  skiprows=[0] #這份文件的 row1 不是 index，所以要跳過\n",
    "    )\n",
    "    print('{} 案件數量={}, '.format(df['縣市'].unique(), df.index.size), end='')\n",
    "    df_raw = pd.concat([df_raw, df])"
   ]
  },
  {
   "cell_type": "code",
   "execution_count": 10,
   "metadata": {
    "collapsed": true
   },
   "outputs": [],
   "source": [
    "# 火災事件關聯分組\n",
    "dict_fire_event = {\n",
    "    '自殺':['自殺','自焚'],\n",
    "    '蠟燭':['蠟燭','燈燭'],\n",
    "    '縱火':['縱火','疑似縱火','人為縱火'],\n",
    "    '瓦斯':['瓦斯','瓦斯外洩','瓦斯漏氣或爆炸','洩漏液化石油氣','洩漏液化瓦斯','瓦斯漏氣爆炸','瓦斯灌充填打火機不慎'],\n",
    "    '機械設備':['機械設備','機械故障'],\n",
    "    '電氣因素':['電氣因素','電氣因素(不含車輛)'],\n",
    "    '乾燥作業':['乾燥作業','烘乾機作業不慎','烤火'],\n",
    "    '敬神祭祖':['敬神祭祖','敬神、祭祖','敬神','祭祖'],\n",
    "    '爐火烹調':['爐火烹調','爐火不慎','爐火烹調油鍋起火','爐火烹調乾燒'],\n",
    "    '車輛因素':['車輛因素','車輛電氣因素','車輛機械因素','引擎排煙管高溫','車輛人為疏忽','車輛電氣系統','車輛燃料系統',],\n",
    "    '燃燒廢棄物':['燃燒廢棄物','燃燒雜草、垃圾','自清','燒廢料','燃燒木材不慎','整地','引燃汽油','引燃枯草'],\n",
    "    '燃放爆竹煙火':['燃放爆竹','燃放爆竹煙火','施放爆竹煙火'],\n",
    "    '易燃液體接觸火源':['易燃液體接觸火源','易燃品自燃','化學物品','柴油洩漏接觸熱源','絕緣油接觸高溫','易燃液體'],\n",
    "    '其他或不明':['其他或不明','其他','其它','原因不明','不明']\n",
    "}"
   ]
  },
  {
   "cell_type": "code",
   "execution_count": 6,
   "metadata": {},
   "outputs": [
    {
     "name": "stdout",
     "output_type": "stream",
     "text": [
      "原先所有類別數量 = 62\n",
      "關聯分組類別數量 = 25\n",
      "['電氣因素' '縱火' '其他或不明' '菸蒂' '遺留火種' '爐火烹調' '車輛因素' '施工不慎' '燃燒廢棄物' '敬神祭祖' '瓦斯'\n",
      " '機械設備' '燃放爆竹煙火' '自殺' '蠟燭' '交通事故' '易燃液體接觸火源' '玩火' '敬神掃墓祭祖' '乾燥作業' '汙泥過熱'\n",
      " '除蜂不慎' '電暖器引燃可燃物' '天然災害' '點蚊香不慎引火']\n"
     ]
    }
   ],
   "source": [
    "print(\"原先所有類別數量 = {}\".format(len(df_raw['起火原因'].unique())))\n",
    "\n",
    "for key in dict_fire_event:\n",
    "    df_raw.replace(\n",
    "        to_replace = dict_fire_event[key],\n",
    "        value = key, inplace=True)\n",
    "\n",
    "df = df_raw.groupby(by=['起火原因'], squeeze=True).count()\n",
    "df = df.iloc[:,0:1].sort_values(by=df.columns[0], ascending=False)\n",
    "print(\"關聯分組類別數量 = {}\".format(len(df.index.unique())))\n",
    "print(df.index.values)"
   ]
  },
  {
   "cell_type": "code",
   "execution_count": 8,
   "metadata": {},
   "outputs": [
    {
     "data": {
      "text/html": [
       "<div>\n",
       "<style>\n",
       "    .dataframe thead tr:only-child th {\n",
       "        text-align: right;\n",
       "    }\n",
       "\n",
       "    .dataframe thead th {\n",
       "        text-align: left;\n",
       "    }\n",
       "\n",
       "    .dataframe tbody tr th {\n",
       "        vertical-align: top;\n",
       "    }\n",
       "</style>\n",
       "<table border=\"1\" class=\"dataframe\">\n",
       "  <thead>\n",
       "    <tr style=\"text-align: right;\">\n",
       "      <th></th>\n",
       "      <th>縣市</th>\n",
       "    </tr>\n",
       "    <tr>\n",
       "      <th>起火原因</th>\n",
       "      <th></th>\n",
       "    </tr>\n",
       "  </thead>\n",
       "  <tbody>\n",
       "    <tr>\n",
       "      <th>電氣因素</th>\n",
       "      <td>576</td>\n",
       "    </tr>\n",
       "    <tr>\n",
       "      <th>縱火</th>\n",
       "      <td>270</td>\n",
       "    </tr>\n",
       "    <tr>\n",
       "      <th>其他或不明</th>\n",
       "      <td>164</td>\n",
       "    </tr>\n",
       "    <tr>\n",
       "      <th>菸蒂</th>\n",
       "      <td>148</td>\n",
       "    </tr>\n",
       "    <tr>\n",
       "      <th>遺留火種</th>\n",
       "      <td>104</td>\n",
       "    </tr>\n",
       "    <tr>\n",
       "      <th>爐火烹調</th>\n",
       "      <td>72</td>\n",
       "    </tr>\n",
       "    <tr>\n",
       "      <th>車輛因素</th>\n",
       "      <td>46</td>\n",
       "    </tr>\n",
       "    <tr>\n",
       "      <th>施工不慎</th>\n",
       "      <td>37</td>\n",
       "    </tr>\n",
       "    <tr>\n",
       "      <th>燃燒廢棄物</th>\n",
       "      <td>31</td>\n",
       "    </tr>\n",
       "    <tr>\n",
       "      <th>敬神祭祖</th>\n",
       "      <td>31</td>\n",
       "    </tr>\n",
       "    <tr>\n",
       "      <th>瓦斯</th>\n",
       "      <td>29</td>\n",
       "    </tr>\n",
       "    <tr>\n",
       "      <th>機械設備</th>\n",
       "      <td>27</td>\n",
       "    </tr>\n",
       "    <tr>\n",
       "      <th>燃放爆竹煙火</th>\n",
       "      <td>26</td>\n",
       "    </tr>\n",
       "    <tr>\n",
       "      <th>自殺</th>\n",
       "      <td>24</td>\n",
       "    </tr>\n",
       "    <tr>\n",
       "      <th>蠟燭</th>\n",
       "      <td>19</td>\n",
       "    </tr>\n",
       "    <tr>\n",
       "      <th>交通事故</th>\n",
       "      <td>18</td>\n",
       "    </tr>\n",
       "    <tr>\n",
       "      <th>易燃液體接觸火源</th>\n",
       "      <td>15</td>\n",
       "    </tr>\n",
       "    <tr>\n",
       "      <th>玩火</th>\n",
       "      <td>14</td>\n",
       "    </tr>\n",
       "    <tr>\n",
       "      <th>敬神掃墓祭祖</th>\n",
       "      <td>14</td>\n",
       "    </tr>\n",
       "    <tr>\n",
       "      <th>乾燥作業</th>\n",
       "      <td>2</td>\n",
       "    </tr>\n",
       "    <tr>\n",
       "      <th>汙泥過熱</th>\n",
       "      <td>1</td>\n",
       "    </tr>\n",
       "    <tr>\n",
       "      <th>除蜂不慎</th>\n",
       "      <td>1</td>\n",
       "    </tr>\n",
       "    <tr>\n",
       "      <th>電暖器引燃可燃物</th>\n",
       "      <td>1</td>\n",
       "    </tr>\n",
       "    <tr>\n",
       "      <th>天然災害</th>\n",
       "      <td>1</td>\n",
       "    </tr>\n",
       "    <tr>\n",
       "      <th>點蚊香不慎引火</th>\n",
       "      <td>1</td>\n",
       "    </tr>\n",
       "  </tbody>\n",
       "</table>\n",
       "</div>"
      ],
      "text/plain": [
       "           縣市\n",
       "起火原因         \n",
       "電氣因素      576\n",
       "縱火        270\n",
       "其他或不明     164\n",
       "菸蒂        148\n",
       "遺留火種      104\n",
       "爐火烹調       72\n",
       "車輛因素       46\n",
       "施工不慎       37\n",
       "燃燒廢棄物      31\n",
       "敬神祭祖       31\n",
       "瓦斯         29\n",
       "機械設備       27\n",
       "燃放爆竹煙火     26\n",
       "自殺         24\n",
       "蠟燭         19\n",
       "交通事故       18\n",
       "易燃液體接觸火源   15\n",
       "玩火         14\n",
       "敬神掃墓祭祖     14\n",
       "乾燥作業        2\n",
       "汙泥過熱        1\n",
       "除蜂不慎        1\n",
       "電暖器引燃可燃物    1\n",
       "天然災害        1\n",
       "點蚊香不慎引火     1"
      ]
     },
     "execution_count": 8,
     "metadata": {},
     "output_type": "execute_result"
    }
   ],
   "source": [
    "df"
   ]
  }
 ],
 "metadata": {
  "kernelspec": {
   "display_name": "Python 3",
   "language": "python",
   "name": "python3"
  },
  "language_info": {
   "codemirror_mode": {
    "name": "ipython",
    "version": 3
   },
   "file_extension": ".py",
   "mimetype": "text/x-python",
   "name": "python",
   "nbconvert_exporter": "python",
   "pygments_lexer": "ipython3",
   "version": "3.6.2"
  }
 },
 "nbformat": 4,
 "nbformat_minor": 2
}
